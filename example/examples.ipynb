{
 "cells": [
  {
   "cell_type": "code",
   "execution_count": null,
   "metadata": {},
   "outputs": [],
   "source": [
    "import os\n",
    "import sys \n",
    "sys.dont_write_bytecode = True\n",
    "\n",
    "import HelperBunny as hb\n",
    "\n",
    "cleanup     = lambda x: os.remove(x) if os.path.isfile(x) else None\n",
    "valuecounts = lambda x: sorted((sum(i==j for j in x), i) for i in set(x))[::-1]"
   ]
  },
  {
   "cell_type": "markdown",
   "metadata": {},
   "source": [
    "# loading sequence arrays for analysis"
   ]
  },
  {
   "cell_type": "code",
   "execution_count": null,
   "metadata": {},
   "outputs": [],
   "source": [
    "cfa_file = 'HelperBunny/example/gta.cfa'\n",
    "\n",
    "# alignment arrays return a tuple containing names and sequences\n",
    "seq_name, seq_aln = hb.AlignmentArray(cfa_file)\n",
    "\n",
    "# if the sequence headers are in uniprot format, you can parse out features\n",
    "seq_name.parse_uniprot()\n",
    "seq_name"
   ]
  },
  {
   "cell_type": "code",
   "execution_count": null,
   "metadata": {},
   "outputs": [],
   "source": [
    "# create a position array which only includes the aligned positions\n",
    "seq_aln.get_position_array()"
   ]
  },
  {
   "cell_type": "code",
   "execution_count": null,
   "metadata": {},
   "outputs": [],
   "source": [
    "display(seq_name['name'])"
   ]
  },
  {
   "cell_type": "markdown",
   "metadata": {},
   "source": [
    "# loading and using the taxdump database"
   ]
  },
  {
   "cell_type": "code",
   "execution_count": null,
   "metadata": {},
   "outputs": [],
   "source": [
    "tax = hb.TaxonomyDatabase()\n",
    "\n",
    "# the taxonomy database needs to be loaded into memory before actually using it\n",
    "tax.load()\n",
    "tax"
   ]
  },
  {
   "cell_type": "code",
   "execution_count": null,
   "metadata": {},
   "outputs": [],
   "source": [
    "# create a lineage vector using the database\n",
    "seq_spe = tax.taxonomy(seq_name['OX'])"
   ]
  },
  {
   "cell_type": "code",
   "execution_count": null,
   "metadata": {
    "scrolled": true
   },
   "outputs": [],
   "source": [
    "# show counts for all taxa\n",
    "seq_spe.taxa()"
   ]
  },
  {
   "cell_type": "code",
   "execution_count": null,
   "metadata": {},
   "outputs": [],
   "source": [
    "valuecounts(seq_spe['superkingdom'])"
   ]
  },
  {
   "cell_type": "markdown",
   "metadata": {},
   "source": [
    "# advanced indexing on alignment arrays"
   ]
  },
  {
   "cell_type": "code",
   "execution_count": null,
   "metadata": {},
   "outputs": [],
   "source": [
    "mask = seq_spe['Bacteria']\n",
    "seq_aln.positions(*range(80,120))[mask].show_logo()"
   ]
  },
  {
   "cell_type": "code",
   "execution_count": null,
   "metadata": {},
   "outputs": [],
   "source": [
    "mask = seq_spe['Archaea']\n",
    "seq_aln.positions(*range(80,120))[mask].show_logo()"
   ]
  },
  {
   "cell_type": "markdown",
   "metadata": {},
   "source": [
    "# reading and scoring constraints"
   ]
  },
  {
   "cell_type": "code",
   "execution_count": null,
   "metadata": {},
   "outputs": [],
   "source": [
    "lpr_file = 'HelperBunny/example/constraints.lpr'\n",
    "con_file = 'HelperBunny/example/constraints.con'\n",
    "cleanup(con_file)\n",
    "\n",
    "# sequence constraints can be imported from lpr or con format\n",
    "con = hb.SequenceConstraints(lpr_file)\n",
    "\n",
    "# lpr files are unlabeled, label them with a dictionary or an hpt file\n",
    "con.label({1:'Set A', 2:'Set B', 3:'Set C'})\n",
    "\n",
    "# sequence constraints objects can be exported in con format\n",
    "con.export(con_file)\n",
    "con = hb.SequenceConstraints(con_file)\n"
   ]
  },
  {
   "cell_type": "code",
   "execution_count": null,
   "metadata": {},
   "outputs": [],
   "source": [
    "cluster, scores = con.fit(ex_aln)\n"
   ]
  }
 ],
 "metadata": {
  "kernelspec": {
   "display_name": "Python 3",
   "language": "python",
   "name": "python3"
  },
  "language_info": {
   "codemirror_mode": {
    "name": "ipython",
    "version": 3
   },
   "file_extension": ".py",
   "mimetype": "text/x-python",
   "name": "python",
   "nbconvert_exporter": "python",
   "pygments_lexer": "ipython3",
   "version": "3.6.9"
  }
 },
 "nbformat": 4,
 "nbformat_minor": 4
}
